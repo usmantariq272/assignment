{
 "cells": [
  {
   "cell_type": "markdown",
   "id": "f91e77d8",
   "metadata": {},
   "source": [
    "**Assign1_Ch_2**"
   ]
  },
  {
   "cell_type": "code",
   "execution_count": 1,
   "id": "974e3425",
   "metadata": {},
   "outputs": [
    {
     "name": "stdout",
     "output_type": "stream",
     "text": [
      "123\n"
     ]
    }
   ],
   "source": [
    "print(123)"
   ]
  },
  {
   "cell_type": "code",
   "execution_count": 2,
   "id": "cabe77d4",
   "metadata": {},
   "outputs": [
    {
     "name": "stdout",
     "output_type": "stream",
     "text": [
      "98.6\n"
     ]
    }
   ],
   "source": [
    "print(98.6)"
   ]
  },
  {
   "cell_type": "code",
   "execution_count": 3,
   "id": "cac5daf9",
   "metadata": {},
   "outputs": [
    {
     "name": "stdout",
     "output_type": "stream",
     "text": [
      "Hello world\n"
     ]
    }
   ],
   "source": [
    "print('Hello world')"
   ]
  },
  {
   "cell_type": "markdown",
   "id": "8354b00b",
   "metadata": {},
   "source": [
    "**VARIABLES**"
   ]
  },
  {
   "cell_type": "code",
   "execution_count": 4,
   "id": "5e95cf29",
   "metadata": {},
   "outputs": [],
   "source": [
    "x = 12.2\n",
    "y = 14"
   ]
  },
  {
   "cell_type": "code",
   "execution_count": 5,
   "id": "e42a8344",
   "metadata": {},
   "outputs": [],
   "source": [
    "x = 100"
   ]
  },
  {
   "cell_type": "markdown",
   "id": "e9f11750",
   "metadata": {},
   "source": [
    "Now the value of x will be updated"
   ]
  },
  {
   "cell_type": "code",
   "execution_count": 6,
   "id": "3ce08936",
   "metadata": {},
   "outputs": [
    {
     "name": "stdout",
     "output_type": "stream",
     "text": [
      "100\n"
     ]
    }
   ],
   "source": [
    "print(x)"
   ]
  },
  {
   "cell_type": "code",
   "execution_count": 7,
   "id": "28d3f9ff",
   "metadata": {},
   "outputs": [
    {
     "name": "stdout",
     "output_type": "stream",
     "text": [
      "437.5\n"
     ]
    }
   ],
   "source": [
    "hours = 35.0\n",
    "rate = 12.50 \n",
    "pay = hours * rate \n",
    "print(pay)"
   ]
  },
  {
   "cell_type": "code",
   "execution_count": 9,
   "id": "e78cfc6b",
   "metadata": {},
   "outputs": [
    {
     "name": "stdout",
     "output_type": "stream",
     "text": [
      "-5814005769.0\n"
     ]
    }
   ],
   "source": [
    "x = 3.9 * x * ( 1 - x )\n",
    "print(x)"
   ]
  },
  {
   "cell_type": "markdown",
   "id": "13d87ec4",
   "metadata": {},
   "source": [
    "**Numeric Expressions**\n"
   ]
  },
  {
   "cell_type": "code",
   "execution_count": 2,
   "id": "1b49a8d1",
   "metadata": {},
   "outputs": [
    {
     "name": "stdout",
     "output_type": "stream",
     "text": [
      "4\n"
     ]
    }
   ],
   "source": [
    "xx = 2\n",
    "xx = xx + 2\n",
    "print(xx)"
   ]
  },
  {
   "cell_type": "code",
   "execution_count": 2,
   "id": "a54d636d",
   "metadata": {},
   "outputs": [
    {
     "name": "stdout",
     "output_type": "stream",
     "text": [
      "3\n"
     ]
    }
   ],
   "source": [
    "jj = 23\n",
    "kk = jj % 5\n",
    "print(kk)"
   ]
  },
  {
   "cell_type": "code",
   "execution_count": 3,
   "id": "c0dab50a",
   "metadata": {},
   "outputs": [
    {
     "name": "stdout",
     "output_type": "stream",
     "text": [
      "5280\n"
     ]
    }
   ],
   "source": [
    "yy = 440 * 12\n",
    "print(yy)"
   ]
  },
  {
   "cell_type": "code",
   "execution_count": 4,
   "id": "190363b4",
   "metadata": {},
   "outputs": [
    {
     "name": "stdout",
     "output_type": "stream",
     "text": [
      "5.28\n"
     ]
    }
   ],
   "source": [
    "zz = yy / 1000\n",
    "print(zz)"
   ]
  },
  {
   "cell_type": "code",
   "execution_count": 5,
   "id": "f00c1d4e",
   "metadata": {},
   "outputs": [
    {
     "name": "stdout",
     "output_type": "stream",
     "text": [
      "64\n"
     ]
    }
   ],
   "source": [
    "print(4 ** 3)"
   ]
  },
  {
   "cell_type": "markdown",
   "id": "83e4a229",
   "metadata": {},
   "source": [
    "**Order of Evaluation**"
   ]
  },
  {
   "cell_type": "code",
   "execution_count": 7,
   "id": "93d7465d",
   "metadata": {},
   "outputs": [
    {
     "name": "stdout",
     "output_type": "stream",
     "text": [
      "6.999744\n"
     ]
    }
   ],
   "source": [
    "x = 1 + 2 * 3 - 4 / 5 ** 6\n",
    "print(x)"
   ]
  },
  {
   "cell_type": "code",
   "execution_count": 9,
   "id": "17db720b",
   "metadata": {},
   "outputs": [
    {
     "name": "stdout",
     "output_type": "stream",
     "text": [
      "11\n"
     ]
    }
   ],
   "source": [
    "x = 1 + 2 ** 3 / 4 * 5\n",
    "print(int(x))"
   ]
  },
  {
   "cell_type": "code",
   "execution_count": 10,
   "id": "6544ffe9",
   "metadata": {},
   "outputs": [
    {
     "name": "stdout",
     "output_type": "stream",
     "text": [
      "5\n"
     ]
    }
   ],
   "source": [
    "ddd = 1 + 4\n",
    "print(ddd)"
   ]
  },
  {
   "cell_type": "code",
   "execution_count": 12,
   "id": "d16b1075",
   "metadata": {},
   "outputs": [
    {
     "name": "stdout",
     "output_type": "stream",
     "text": [
      "hello there\n"
     ]
    }
   ],
   "source": [
    "eee = 'hello ' + 'there'\n",
    "print(eee)"
   ]
  },
  {
   "cell_type": "code",
   "execution_count": 13,
   "id": "986de168",
   "metadata": {},
   "outputs": [
    {
     "ename": "TypeError",
     "evalue": "can only concatenate str (not \"int\") to str",
     "output_type": "error",
     "traceback": [
      "\u001b[1;31m---------------------------------------------------------------------------\u001b[0m",
      "\u001b[1;31mTypeError\u001b[0m                                 Traceback (most recent call last)",
      "Cell \u001b[1;32mIn[13], line 2\u001b[0m\n\u001b[0;32m      1\u001b[0m eee \u001b[38;5;241m=\u001b[39m \u001b[38;5;124m'\u001b[39m\u001b[38;5;124mhello \u001b[39m\u001b[38;5;124m'\u001b[39m \u001b[38;5;241m+\u001b[39m \u001b[38;5;124m'\u001b[39m\u001b[38;5;124mthere\u001b[39m\u001b[38;5;124m'\u001b[39m\n\u001b[1;32m----> 2\u001b[0m eee \u001b[38;5;241m=\u001b[39m \u001b[43meee\u001b[49m\u001b[43m \u001b[49m\u001b[38;5;241;43m+\u001b[39;49m\u001b[43m \u001b[49m\u001b[38;5;241;43m1\u001b[39;49m\n",
      "\u001b[1;31mTypeError\u001b[0m: can only concatenate str (not \"int\") to str"
     ]
    }
   ],
   "source": [
    "eee = 'hello ' + 'there'\n",
    "eee = eee + 1"
   ]
  },
  {
   "cell_type": "markdown",
   "id": "29b48f82",
   "metadata": {},
   "source": [
    "**We can find this type of error because we can't add two diff datatypes**"
   ]
  },
  {
   "cell_type": "code",
   "execution_count": 14,
   "id": "a64f43ae",
   "metadata": {},
   "outputs": [
    {
     "data": {
      "text/plain": [
       "str"
      ]
     },
     "execution_count": 14,
     "metadata": {},
     "output_type": "execute_result"
    }
   ],
   "source": [
    "type(eee)"
   ]
  },
  {
   "cell_type": "code",
   "execution_count": 15,
   "id": "79a2ca6c",
   "metadata": {},
   "outputs": [
    {
     "data": {
      "text/plain": [
       "str"
      ]
     },
     "execution_count": 15,
     "metadata": {},
     "output_type": "execute_result"
    }
   ],
   "source": [
    "type('hello')"
   ]
  },
  {
   "cell_type": "code",
   "execution_count": 16,
   "id": "bd64a6ed",
   "metadata": {},
   "outputs": [
    {
     "data": {
      "text/plain": [
       "int"
      ]
     },
     "execution_count": 16,
     "metadata": {},
     "output_type": "execute_result"
    }
   ],
   "source": [
    "type(1)"
   ]
  },
  {
   "cell_type": "markdown",
   "id": "b0b4c6e2",
   "metadata": {},
   "source": [
    "**Several Types of Numbers**"
   ]
  },
  {
   "cell_type": "code",
   "execution_count": 17,
   "id": "54e36dc6",
   "metadata": {},
   "outputs": [
    {
     "data": {
      "text/plain": [
       "int"
      ]
     },
     "execution_count": 17,
     "metadata": {},
     "output_type": "execute_result"
    }
   ],
   "source": [
    "xx = 1\n",
    "type (xx)"
   ]
  },
  {
   "cell_type": "code",
   "execution_count": 18,
   "id": "ab3083de",
   "metadata": {},
   "outputs": [
    {
     "data": {
      "text/plain": [
       "float"
      ]
     },
     "execution_count": 18,
     "metadata": {},
     "output_type": "execute_result"
    }
   ],
   "source": [
    "temp = 98.6\n",
    "type(temp)"
   ]
  },
  {
   "cell_type": "code",
   "execution_count": 19,
   "id": "4cb4d1f9",
   "metadata": {},
   "outputs": [
    {
     "data": {
      "text/plain": [
       "int"
      ]
     },
     "execution_count": 19,
     "metadata": {},
     "output_type": "execute_result"
    }
   ],
   "source": [
    "type(1)"
   ]
  },
  {
   "cell_type": "code",
   "execution_count": 20,
   "id": "fab25fd5",
   "metadata": {},
   "outputs": [
    {
     "data": {
      "text/plain": [
       "float"
      ]
     },
     "execution_count": 20,
     "metadata": {},
     "output_type": "execute_result"
    }
   ],
   "source": [
    "type(1.0)"
   ]
  },
  {
   "cell_type": "markdown",
   "id": "60e23e7b",
   "metadata": {},
   "source": [
    "**Type Conversions**"
   ]
  },
  {
   "cell_type": "code",
   "execution_count": 21,
   "id": "e71d87f7",
   "metadata": {},
   "outputs": [
    {
     "name": "stdout",
     "output_type": "stream",
     "text": [
      "199.0\n"
     ]
    }
   ],
   "source": [
    "print(float(99) + 100)"
   ]
  },
  {
   "cell_type": "code",
   "execution_count": 23,
   "id": "aa3e7bde",
   "metadata": {},
   "outputs": [
    {
     "data": {
      "text/plain": [
       "int"
      ]
     },
     "execution_count": 23,
     "metadata": {},
     "output_type": "execute_result"
    }
   ],
   "source": [
    "i = 42\n",
    "type(i)"
   ]
  },
  {
   "cell_type": "code",
   "execution_count": 25,
   "id": "aa583ac3",
   "metadata": {},
   "outputs": [
    {
     "name": "stdout",
     "output_type": "stream",
     "text": [
      "42.0\n"
     ]
    },
    {
     "data": {
      "text/plain": [
       "float"
      ]
     },
     "execution_count": 25,
     "metadata": {},
     "output_type": "execute_result"
    }
   ],
   "source": [
    "f = float(i)\n",
    "print(f)\n",
    "type(f)"
   ]
  },
  {
   "cell_type": "markdown",
   "id": "bf293769",
   "metadata": {},
   "source": [
    "**Integer Division**"
   ]
  },
  {
   "cell_type": "code",
   "execution_count": 3,
   "id": "005ad71a",
   "metadata": {},
   "outputs": [
    {
     "name": "stdout",
     "output_type": "stream",
     "text": [
      "A =  5.0\n",
      "B =  4.5\n",
      "C =  0.99\n",
      "D =  5.0\n",
      "E =  0.99\n"
     ]
    }
   ],
   "source": [
    "print(\"A = \", 10 / 2)\n",
    "print(\"B = \",9 / 2)\n",
    "print(\"C = \",99 / 100)\n",
    "print(\"D = \",10.0 / 2.0)\n",
    "print(\"E = \",99.0 / 100.0)"
   ]
  },
  {
   "cell_type": "markdown",
   "id": "d6d27a6c",
   "metadata": {},
   "source": [
    "**String Conversions**"
   ]
  },
  {
   "cell_type": "code",
   "execution_count": 28,
   "id": "83bf388b",
   "metadata": {
    "scrolled": true
   },
   "outputs": [
    {
     "ename": "TypeError",
     "evalue": "can only concatenate str (not \"int\") to str",
     "output_type": "error",
     "traceback": [
      "\u001b[1;31m---------------------------------------------------------------------------\u001b[0m",
      "\u001b[1;31mTypeError\u001b[0m                                 Traceback (most recent call last)",
      "Cell \u001b[1;32mIn[28], line 3\u001b[0m\n\u001b[0;32m      1\u001b[0m sval \u001b[38;5;241m=\u001b[39m \u001b[38;5;124m'\u001b[39m\u001b[38;5;124m123\u001b[39m\u001b[38;5;124m'\u001b[39m\n\u001b[0;32m      2\u001b[0m \u001b[38;5;28mtype\u001b[39m(sval)\n\u001b[1;32m----> 3\u001b[0m \u001b[38;5;28mprint\u001b[39m(\u001b[43msval\u001b[49m\u001b[43m \u001b[49m\u001b[38;5;241;43m+\u001b[39;49m\u001b[43m \u001b[49m\u001b[38;5;241;43m1\u001b[39;49m)\n",
      "\u001b[1;31mTypeError\u001b[0m: can only concatenate str (not \"int\") to str"
     ]
    }
   ],
   "source": [
    "sval = '123'\n",
    "type(sval)\n",
    "print(sval + 1)"
   ]
  },
  {
   "cell_type": "markdown",
   "id": "07d5ea4c",
   "metadata": {},
   "source": [
    "**This error is find because we can't add integer value in String**\n"
   ]
  },
  {
   "cell_type": "code",
   "execution_count": 4,
   "id": "ac8621ff",
   "metadata": {},
   "outputs": [
    {
     "ename": "NameError",
     "evalue": "name 'sval' is not defined",
     "output_type": "error",
     "traceback": [
      "\u001b[1;31m---------------------------------------------------------------------------\u001b[0m",
      "\u001b[1;31mNameError\u001b[0m                                 Traceback (most recent call last)",
      "Input \u001b[1;32mIn [4]\u001b[0m, in \u001b[0;36m<cell line: 1>\u001b[1;34m()\u001b[0m\n\u001b[1;32m----> 1\u001b[0m ival \u001b[38;5;241m=\u001b[39m \u001b[38;5;28mint\u001b[39m(\u001b[43msval\u001b[49m)\n\u001b[0;32m      2\u001b[0m \u001b[38;5;28mtype\u001b[39m(ival)\n\u001b[0;32m      3\u001b[0m \u001b[38;5;28mprint\u001b[39m(ival \u001b[38;5;241m+\u001b[39m \u001b[38;5;241m1\u001b[39m)\n",
      "\u001b[1;31mNameError\u001b[0m: name 'sval' is not defined"
     ]
    }
   ],
   "source": [
    "ival = int(sval)\n",
    "type(ival)\n",
    "print(ival + 1)"
   ]
  },
  {
   "cell_type": "code",
   "execution_count": 30,
   "id": "c6c85fd8",
   "metadata": {},
   "outputs": [
    {
     "ename": "ValueError",
     "evalue": "invalid literal for int() with base 10: 'hello bob'",
     "output_type": "error",
     "traceback": [
      "\u001b[1;31m---------------------------------------------------------------------------\u001b[0m",
      "\u001b[1;31mValueError\u001b[0m                                Traceback (most recent call last)",
      "Cell \u001b[1;32mIn[30], line 2\u001b[0m\n\u001b[0;32m      1\u001b[0m nsv \u001b[38;5;241m=\u001b[39m \u001b[38;5;124m'\u001b[39m\u001b[38;5;124mhello bob\u001b[39m\u001b[38;5;124m'\u001b[39m\n\u001b[1;32m----> 2\u001b[0m niv \u001b[38;5;241m=\u001b[39m \u001b[38;5;28;43mint\u001b[39;49m\u001b[43m(\u001b[49m\u001b[43mnsv\u001b[49m\u001b[43m)\u001b[49m\n",
      "\u001b[1;31mValueError\u001b[0m: invalid literal for int() with base 10: 'hello bob'"
     ]
    }
   ],
   "source": [
    "nsv = 'hello bob'\n",
    "niv = int(nsv)"
   ]
  },
  {
   "cell_type": "markdown",
   "id": "a2731c45",
   "metadata": {},
   "source": [
    "**Can't convert string into integer**"
   ]
  },
  {
   "cell_type": "markdown",
   "id": "9c1d293d",
   "metadata": {},
   "source": [
    "**User Input**"
   ]
  },
  {
   "cell_type": "code",
   "execution_count": 32,
   "id": "0e93ea4d",
   "metadata": {
    "scrolled": true
   },
   "outputs": [
    {
     "name": "stdout",
     "output_type": "stream",
     "text": [
      "Who are you? Your Nightmare :)\n",
      "Welcome Your Nightmare :)\n"
     ]
    }
   ],
   "source": [
    "nam = input('Who are you? ')\n",
    "print('Welcome', nam)"
   ]
  },
  {
   "cell_type": "markdown",
   "id": "73bd6aa5",
   "metadata": {},
   "source": [
    "**Converting User Input**"
   ]
  },
  {
   "cell_type": "code",
   "execution_count": 34,
   "id": "ec31f192",
   "metadata": {},
   "outputs": [
    {
     "name": "stdout",
     "output_type": "stream",
     "text": [
      "Europe floor?3\n",
      "US floor 4\n"
     ]
    }
   ],
   "source": [
    "inp = input('Europe floor?')\n",
    "usf = int(inp) + 1\n",
    "print('US floor', usf)"
   ]
  },
  {
   "cell_type": "markdown",
   "id": "b63bcd8e",
   "metadata": {},
   "source": [
    "**Comments in Python**"
   ]
  },
  {
   "cell_type": "code",
   "execution_count": 48,
   "id": "b66dc934",
   "metadata": {},
   "outputs": [],
   "source": [
    "a = \"A great Day\"\n",
    "# print(a)"
   ]
  },
  {
   "cell_type": "markdown",
   "id": "42c064b8",
   "metadata": {},
   "source": [
    "See the commented line isn't working because of the symbol #"
   ]
  },
  {
   "cell_type": "markdown",
   "id": "a197390a",
   "metadata": {},
   "source": [
    "**Q: Write a program to prompt the user for hours and rate per hour to compute gross pay.**"
   ]
  },
  {
   "cell_type": "code",
   "execution_count": 1,
   "id": "1e13493f",
   "metadata": {},
   "outputs": [
    {
     "name": "stdout",
     "output_type": "stream",
     "text": [
      "Enter Hours = 77\n",
      "Enter Rate = 67\n",
      "totalPay =  5159.0\n"
     ]
    }
   ],
   "source": [
    "hourly = float(input(\"Enter Hours = \"))\n",
    "rates = float(input(\"Enter Rate = \"))\n",
    "total = hourly * rates\n",
    "print(\"totalPay = \",total)"
   ]
  },
  {
   "cell_type": "code",
   "execution_count": null,
   "id": "40ce67c4",
   "metadata": {},
   "outputs": [],
   "source": []
  }
 ],
 "metadata": {
  "kernelspec": {
   "display_name": "Python 3 (ipykernel)",
   "language": "python",
   "name": "python3"
  },
  "language_info": {
   "codemirror_mode": {
    "name": "ipython",
    "version": 3
   },
   "file_extension": ".py",
   "mimetype": "text/x-python",
   "name": "python",
   "nbconvert_exporter": "python",
   "pygments_lexer": "ipython3",
   "version": "3.9.12"
  }
 },
 "nbformat": 4,
 "nbformat_minor": 5
}
